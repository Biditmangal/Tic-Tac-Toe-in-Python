{
 "cells": [
  {
   "cell_type": "code",
   "execution_count": 59,
   "metadata": {},
   "outputs": [],
   "source": [
    "#Board display\n",
    "def display_board(board):\n",
    "    print(\" %c | %c | %c \" % (board[7],board[8],board[9]))    \n",
    "    print(\"___|___|___\")    \n",
    "    print(\" %c | %c | %c \" % (board[4],board[5],board[6]))    \n",
    "    print(\"___|___|___\")    \n",
    "    print(\" %c | %c | %c \" % (board[1],board[2],board[3]))\n",
    "    print(\"   |   |   \")"
   ]
  },
  {
   "cell_type": "code",
   "execution_count": 60,
   "metadata": {},
   "outputs": [],
   "source": [
    "#Player Marker\n",
    "def player_input():\n",
    "    letter1=''\n",
    "    letetr2=''\n",
    "    while not (letter1=='X' or letter1=='O'):\n",
    "        letter1=input('What do you want to be X or O?').upper()\n",
    "        if letter1=='X':\n",
    "            letter2='O'\n",
    "            print('Computer is O')\n",
    "            return [letter1,letter2]\n",
    "        elif letter1=='O':\n",
    "            letter2='X'\n",
    "            print('Computer is X')\n",
    "            return [letter1,letter2]\n",
    "        else:\n",
    "            print(\"Re enter your choice!\")"
   ]
  },
  {
   "cell_type": "code",
   "execution_count": 61,
   "metadata": {},
   "outputs": [],
   "source": [
    "#Function for placing markers\n",
    "def place_marker(board, marker, position):\n",
    "    board[position]=marker"
   ]
  },
  {
   "cell_type": "code",
   "execution_count": 62,
   "metadata": {},
   "outputs": [],
   "source": [
    "#Function for checking win condition\n",
    "def win_check(board, letter):\n",
    "    return( \n",
    "            #For Horizontal lines\n",
    "            (board[1]==letter and board[2]==letter and board[3]==letter) or\n",
    "            (board[4]==letter and board[5]==letter and board[6]==letter) or \n",
    "            (board[7]==letter and board[8]==letter and board[9]==letter) or\n",
    "            #For Vertical lines\n",
    "            (board[1]==letter and board[4]==letter and board[7]==letter) or\n",
    "            (board[2]==letter and board[5]==letter and board[8]==letter) or\n",
    "            (board[3]==letter and board[6]==letter and board[9]==letter) or\n",
    "            #For Diangonal lines\n",
    "            (board[1]==letter and board[5]==letter and board[9]==letter) or\n",
    "            (board[7]==letter and board[5]==letter and board[3]==letter)\n",
    "    )"
   ]
  },
  {
   "cell_type": "code",
   "execution_count": 63,
   "metadata": {},
   "outputs": [],
   "source": [
    "#Function for choosing who will go first\n",
    "import random\n",
    "\n",
    "def choose_first():\n",
    "    if random.randint(0,1)==0:\n",
    "        print('You will start first')\n",
    "        return 'Player'\n",
    "    else:\n",
    "        print('Computer will start first')\n",
    "        return 'Computer'"
   ]
  },
  {
   "cell_type": "code",
   "execution_count": 64,
   "metadata": {},
   "outputs": [],
   "source": [
    "#Function for cheking free space\n",
    "def space_check(board, position):\n",
    "    return board[position]==' '"
   ]
  },
  {
   "cell_type": "code",
   "execution_count": 65,
   "metadata": {},
   "outputs": [],
   "source": [
    "#Function for draw condition\n",
    "def full_board_check(board):\n",
    "    if(     board[1]!=' ' and \n",
    "            board[2]!=' ' and \n",
    "            board[3]!=' ' and \n",
    "            board[4]!=' ' and \n",
    "            board[5]!=' ' and \n",
    "            board[6]!=' ' and \n",
    "            board[7]!=' ' and \n",
    "            board[8]!=' ' and \n",
    "            board[9]!=' '\n",
    "        ):\n",
    "        return True\n",
    "    else:\n",
    "        return False"
   ]
  },
  {
   "cell_type": "code",
   "execution_count": 66,
   "metadata": {},
   "outputs": [],
   "source": [
    "#Function for inputing player choice\n",
    "def player_choice(board):\n",
    "    position=0\n",
    "    while position not in [1,2,3,4,5,6,7,8,9] or (not space_check(board,position)):\n",
    "        position=int(input(\"Please Enter a position between (1,9)\"))\n",
    "    return position"
   ]
  },
  {
   "cell_type": "code",
   "execution_count": 67,
   "metadata": {},
   "outputs": [],
   "source": [
    "#Function for Computer choice\n",
    "def computer_choice(board):\n",
    "    position=0\n",
    "    while position not in [1,2,3,4,5,6,7,8,9] or (not space_check(board,position)):\n",
    "        position=random.randint(1,9)\n",
    "    return position"
   ]
  },
  {
   "cell_type": "code",
   "execution_count": 68,
   "metadata": {},
   "outputs": [],
   "source": [
    "#Function for playing again\n",
    "def replay():\n",
    "    return input(\"Do you want to play again. Yes or No?\").lower().startswith('y')"
   ]
  },
  {
   "cell_type": "code",
   "execution_count": null,
   "metadata": {},
   "outputs": [
    {
     "name": "stdout",
     "output_type": "stream",
     "text": [
      "Welcome to Tic Tac Toe!\n",
      "What do you want to be X or O?X\n",
      "Computer is O\n",
      "Computer will start first\n",
      "   |   |   \n",
      "___|___|___\n",
      "   |   |   \n",
      "___|___|___\n",
      " O |   |   \n",
      "   |   |   \n",
      "Please Enter a position between (1,9)2\n",
      "   | O |   \n",
      "___|___|___\n",
      "   |   |   \n",
      "___|___|___\n",
      " O | X |   \n",
      "   |   |   \n",
      "Please Enter a position between (1,9)6\n",
      "   | O | O \n",
      "___|___|___\n",
      "   |   | X \n",
      "___|___|___\n",
      " O | X |   \n",
      "   |   |   \n",
      "Please Enter a position between (1,9)7\n",
      " X | O | O \n",
      "___|___|___\n",
      "   | O | X \n",
      "___|___|___\n",
      " O | X |   \n",
      "   |   |   \n",
      "Better Luck next time!\n"
     ]
    }
   ],
   "source": [
    "#Main function\n",
    "print('Welcome to Tic Tac Toe!')\n",
    "\n",
    "while True:\n",
    "    board=[' ']*10 \n",
    "    marker1,marker2=player_input()\n",
    "    turn=choose_first()\n",
    "    game_on=True\n",
    "    while game_on:\n",
    "        if turn=='Player':\n",
    "#         Player's Turn\n",
    "            display_board(board)\n",
    "            move=player_choice(board)\n",
    "            place_marker(board,marker1,move)\n",
    "            if win_check(board,marker1):\n",
    "                display_board(board)\n",
    "                print(\"Congrats! You have won\")\n",
    "                game_on=False\n",
    "            elif (full_board_check(board)):\n",
    "                display_board(board)\n",
    "                print(\"The Game is Tie!\")\n",
    "                break\n",
    "            else:\n",
    "                turn='Computer'\n",
    "        else:\n",
    "#         COmputer's turn.\n",
    "            move=computer_choice(board)\n",
    "            place_marker(board,marker2,move)\n",
    "            if win_check(board,marker2):\n",
    "                display_board(board)\n",
    "                print(\"Better Luck next time!\")\n",
    "                game_on=False\n",
    "            elif (full_board_check(board)):\n",
    "                display_board(board)\n",
    "                print(\"The Game is Tie!\")\n",
    "                break\n",
    "            else:\n",
    "                turn = 'Player'\n",
    "    if not replay():\n",
    "        break"
   ]
  },
  {
   "cell_type": "code",
   "execution_count": null,
   "metadata": {},
   "outputs": [],
   "source": []
  }
 ],
 "metadata": {
  "kernelspec": {
   "display_name": "Python 3",
   "language": "python",
   "name": "python3"
  },
  "language_info": {
   "codemirror_mode": {
    "name": "ipython",
    "version": 3
   },
   "file_extension": ".py",
   "mimetype": "text/x-python",
   "name": "python",
   "nbconvert_exporter": "python",
   "pygments_lexer": "ipython3",
   "version": "3.7.3"
  }
 },
 "nbformat": 4,
 "nbformat_minor": 2
}
